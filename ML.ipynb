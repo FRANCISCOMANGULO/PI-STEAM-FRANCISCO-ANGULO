{
 "cells": [
  {
   "cell_type": "code",
   "execution_count": 9,
   "metadata": {},
   "outputs": [],
   "source": [
    "import pandas as pd\n",
    "import numpy as np\n",
    "import seaborn as sns\n",
    "import matplotlib.pyplot as plt\n",
    "import scipy.stats as stats \n",
    "from ydata_profiling import ProfileReport\n",
    "from collections import Counter\n",
    "from surprise import Dataset, Reader, SVD\n",
    "from surprise.model_selection import train_test_split\n",
    "from surprise import accuracy\n",
    "import heapq\n"
   ]
  },
  {
   "cell_type": "code",
   "execution_count": 10,
   "metadata": {},
   "outputs": [],
   "source": [
    "dfreviews = pd.read_parquet('User_reviews_reducido_32.parquet')\n",
    "dfsteam = pd.read_parquet('Output_steam_games_reducido_32.parquet')\n",
    "dfitems = pd.read_parquet('User_items_reducido_32.parquet')"
   ]
  },
  {
   "cell_type": "code",
   "execution_count": 11,
   "metadata": {},
   "outputs": [],
   "source": [
    "dfreviews = dfreviews.merge(dfsteam, on='Item_Id', how='inner')"
   ]
  },
  {
   "cell_type": "code",
   "execution_count": 12,
   "metadata": {},
   "outputs": [],
   "source": [
    "dfreviews=dfreviews[[\"User_Id\",\"Item_Id\",\"Recommend\",\"Sentiment Analysis\",\"App_name\"]]"
   ]
  },
  {
   "cell_type": "code",
   "execution_count": 13,
   "metadata": {},
   "outputs": [
    {
     "data": {
      "text/html": [
       "<div>\n",
       "<style scoped>\n",
       "    .dataframe tbody tr th:only-of-type {\n",
       "        vertical-align: middle;\n",
       "    }\n",
       "\n",
       "    .dataframe tbody tr th {\n",
       "        vertical-align: top;\n",
       "    }\n",
       "\n",
       "    .dataframe thead th {\n",
       "        text-align: right;\n",
       "    }\n",
       "</style>\n",
       "<table border=\"1\" class=\"dataframe\">\n",
       "  <thead>\n",
       "    <tr style=\"text-align: right;\">\n",
       "      <th></th>\n",
       "      <th>User_Id</th>\n",
       "      <th>Item_Id</th>\n",
       "      <th>Recommend</th>\n",
       "      <th>Sentiment Analysis</th>\n",
       "      <th>App_name</th>\n",
       "    </tr>\n",
       "  </thead>\n",
       "  <tbody>\n",
       "    <tr>\n",
       "      <th>0</th>\n",
       "      <td>76561197970982479</td>\n",
       "      <td>1250</td>\n",
       "      <td>1</td>\n",
       "      <td>2</td>\n",
       "      <td>Killing Floor</td>\n",
       "    </tr>\n",
       "    <tr>\n",
       "      <th>1</th>\n",
       "      <td>death-hunter</td>\n",
       "      <td>1250</td>\n",
       "      <td>1</td>\n",
       "      <td>2</td>\n",
       "      <td>Killing Floor</td>\n",
       "    </tr>\n",
       "    <tr>\n",
       "      <th>2</th>\n",
       "      <td>DJKamBer</td>\n",
       "      <td>1250</td>\n",
       "      <td>1</td>\n",
       "      <td>0</td>\n",
       "      <td>Killing Floor</td>\n",
       "    </tr>\n",
       "    <tr>\n",
       "      <th>3</th>\n",
       "      <td>diego9031</td>\n",
       "      <td>1250</td>\n",
       "      <td>1</td>\n",
       "      <td>2</td>\n",
       "      <td>Killing Floor</td>\n",
       "    </tr>\n",
       "    <tr>\n",
       "      <th>4</th>\n",
       "      <td>76561198081962345</td>\n",
       "      <td>1250</td>\n",
       "      <td>1</td>\n",
       "      <td>2</td>\n",
       "      <td>Killing Floor</td>\n",
       "    </tr>\n",
       "    <tr>\n",
       "      <th>...</th>\n",
       "      <td>...</td>\n",
       "      <td>...</td>\n",
       "      <td>...</td>\n",
       "      <td>...</td>\n",
       "      <td>...</td>\n",
       "    </tr>\n",
       "    <tr>\n",
       "      <th>41797</th>\n",
       "      <td>laislabonita75</td>\n",
       "      <td>367780</td>\n",
       "      <td>1</td>\n",
       "      <td>2</td>\n",
       "      <td>Aero's Quest</td>\n",
       "    </tr>\n",
       "    <tr>\n",
       "      <th>41798</th>\n",
       "      <td>evilindiegaming</td>\n",
       "      <td>367780</td>\n",
       "      <td>1</td>\n",
       "      <td>2</td>\n",
       "      <td>Aero's Quest</td>\n",
       "    </tr>\n",
       "    <tr>\n",
       "      <th>41799</th>\n",
       "      <td>laislabonita75</td>\n",
       "      <td>305920</td>\n",
       "      <td>0</td>\n",
       "      <td>0</td>\n",
       "      <td>Another Perspective</td>\n",
       "    </tr>\n",
       "    <tr>\n",
       "      <th>41800</th>\n",
       "      <td>Gamer0009</td>\n",
       "      <td>306040</td>\n",
       "      <td>1</td>\n",
       "      <td>2</td>\n",
       "      <td>The Howler</td>\n",
       "    </tr>\n",
       "    <tr>\n",
       "      <th>41801</th>\n",
       "      <td>llDracuwulf</td>\n",
       "      <td>307130</td>\n",
       "      <td>1</td>\n",
       "      <td>2</td>\n",
       "      <td>Asteria</td>\n",
       "    </tr>\n",
       "  </tbody>\n",
       "</table>\n",
       "<p>41802 rows × 5 columns</p>\n",
       "</div>"
      ],
      "text/plain": [
       "                 User_Id  Item_Id  Recommend  Sentiment Analysis  \\\n",
       "0      76561197970982479     1250          1                   2   \n",
       "1           death-hunter     1250          1                   2   \n",
       "2               DJKamBer     1250          1                   0   \n",
       "3              diego9031     1250          1                   2   \n",
       "4      76561198081962345     1250          1                   2   \n",
       "...                  ...      ...        ...                 ...   \n",
       "41797     laislabonita75   367780          1                   2   \n",
       "41798    evilindiegaming   367780          1                   2   \n",
       "41799     laislabonita75   305920          0                   0   \n",
       "41800          Gamer0009   306040          1                   2   \n",
       "41801        llDracuwulf   307130          1                   2   \n",
       "\n",
       "                  App_name  \n",
       "0            Killing Floor  \n",
       "1            Killing Floor  \n",
       "2            Killing Floor  \n",
       "3            Killing Floor  \n",
       "4            Killing Floor  \n",
       "...                    ...  \n",
       "41797         Aero's Quest  \n",
       "41798         Aero's Quest  \n",
       "41799  Another Perspective  \n",
       "41800           The Howler  \n",
       "41801              Asteria  \n",
       "\n",
       "[41802 rows x 5 columns]"
      ]
     },
     "execution_count": 13,
     "metadata": {},
     "output_type": "execute_result"
    }
   ],
   "source": [
    "dfreviews['Recommend'] = dfreviews['Recommend'].astype(int)\n",
    "\n",
    "# Mostrar el DataFrame resultante\n",
    "dfreviews"
   ]
  },
  {
   "cell_type": "code",
   "execution_count": 14,
   "metadata": {},
   "outputs": [],
   "source": [
    "dfreviews.dropna(inplace=True)"
   ]
  },
  {
   "cell_type": "code",
   "execution_count": 15,
   "metadata": {},
   "outputs": [
    {
     "data": {
      "text/plain": [
       "Recommend\n",
       "1    37960\n",
       "0     3842\n",
       "Name: count, dtype: int64"
      ]
     },
     "execution_count": 15,
     "metadata": {},
     "output_type": "execute_result"
    }
   ],
   "source": [
    "dfreviews[\"Recommend\"].value_counts()"
   ]
  },
  {
   "cell_type": "code",
   "execution_count": 16,
   "metadata": {},
   "outputs": [],
   "source": [
    "dfreviews.to_parquet('ML_reducido.parquet')"
   ]
  },
  {
   "cell_type": "code",
   "execution_count": 17,
   "metadata": {},
   "outputs": [],
   "source": [
    "\n",
    "\n",
    "def train_and_predict(user_id):\n",
    "    # Cargar los datos en un DataFrame de pandas\n",
    "    df = dfreviews\n",
    "    n=5\n",
    "    # Definir la escala de calificación de los datos\n",
    "    reader = Reader(rating_scale=(0, 1))\n",
    "\n",
    "    # Crear un objeto Dataset a partir del DataFrame y el Reader\n",
    "    data = Dataset.load_from_df(df[['User_Id', 'Item_Id', 'Recommend']], reader)\n",
    "\n",
    "    # Dividir los datos en conjuntos de entrenamiento y prueba\n",
    "    trainset, testset = train_test_split(data, test_size=0.2)\n",
    "\n",
    "    # Crear un objeto SVD para entrenar el modelo de recomendación\n",
    "    model = SVD()\n",
    "    model.fit(trainset)\n",
    "\n",
    "    # Utilizar el modelo entrenado para hacer predicciones para el usuario especificado\n",
    "    items_to_predict = df['Item_Id'].unique()\n",
    "    predictions = []\n",
    "    for item_id in items_to_predict:\n",
    "        prediction = model.predict(user_id, item_id)\n",
    "        heapq.heappush(predictions, (-prediction.est, item_id))\n",
    "    \n",
    "    top_n = heapq.nsmallest(n, predictions)\n",
    "    top_n = [(item_id, -est) for est, item_id in top_n]\n",
    "    top_n_items = [df[df['Item_Id'] == item_id]['App_name'].iloc[0] for item_id, _ in top_n]\n",
    "\n",
    "    return top_n_items\n",
    "\n"
   ]
  },
  {
   "cell_type": "code",
   "execution_count": 20,
   "metadata": {},
   "outputs": [
    {
     "data": {
      "text/plain": [
       "['Day of Defeat',\n",
       " 'Ricochet',\n",
       " 'Half-Life',\n",
       " 'Portal',\n",
       " 'Half-Life 2: Episode Two']"
      ]
     },
     "execution_count": 20,
     "metadata": {},
     "output_type": "execute_result"
    }
   ],
   "source": [
    "train_and_predict(\"Gamer0009\")"
   ]
  }
 ],
 "metadata": {
  "kernelspec": {
   "display_name": "py39",
   "language": "python",
   "name": "python3"
  },
  "language_info": {
   "codemirror_mode": {
    "name": "ipython",
    "version": 3
   },
   "file_extension": ".py",
   "mimetype": "text/x-python",
   "name": "python",
   "nbconvert_exporter": "python",
   "pygments_lexer": "ipython3",
   "version": "3.9.0"
  }
 },
 "nbformat": 4,
 "nbformat_minor": 2
}
